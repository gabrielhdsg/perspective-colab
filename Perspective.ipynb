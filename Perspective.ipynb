{
  "nbformat": 4,
  "nbformat_minor": 0,
  "metadata": {
    "colab": {
      "provenance": [],
      "include_colab_link": true
    },
    "kernelspec": {
      "name": "python3",
      "display_name": "Python 3"
    },
    "language_info": {
      "name": "python"
    }
  },
  "cells": [
    {
      "cell_type": "markdown",
      "metadata": {
        "id": "view-in-github",
        "colab_type": "text"
      },
      "source": [
        "<a href=\"https://colab.research.google.com/github/gabrielhdsg/perspective-colab/blob/main/Perspective.ipynb\" target=\"_parent\"><img src=\"https://colab.research.google.com/assets/colab-badge.svg\" alt=\"Open In Colab\"/></a>"
      ]
    },
    {
      "cell_type": "markdown",
      "source": [
        "# Base de dados na API Perspective\n",
        "Usando a API da google Perspective para avaliar as mensagens do Telegram como tóxicas e não tóxicas. Será criado um file.txt com duas colunas; uma com o id da mensagem e outra com o score da toxidade."
      ],
      "metadata": {
        "id": "rgGuseKGuH68"
      }
    },
    {
      "cell_type": "markdown",
      "source": [],
      "metadata": {
        "id": "eWuCSJJ_waCY"
      }
    },
    {
      "cell_type": "markdown",
      "source": [
        "Importando o **dask** para a db e a api **perspective**."
      ],
      "metadata": {
        "id": "7SZGMjuFvAXN"
      }
    },
    {
      "cell_type": "code",
      "source": [
        "pip install perspective-python"
      ],
      "metadata": {
        "id": "NmZ82l3MuwT7",
        "colab": {
          "base_uri": "https://localhost:8080/"
        },
        "outputId": "9823c8bc-8499-4e65-cccc-4f3c99cc38a4"
      },
      "execution_count": 49,
      "outputs": [
        {
          "output_type": "stream",
          "name": "stdout"
        }
      ]
    },
    {
      "cell_type": "code",
      "source": [
        "pip install dask"
      ],
      "metadata": {
        "id": "x1aHgKuVu4fr",
        "colab": {
          "base_uri": "https://localhost:8080/"
        },
        "outputId": "ad06d525-cee4-44db-d24a-371dfa6a59e1"
      },
      "execution_count": 50,
      "outputs": [
        {
          "output_type": "stream",
          "name": "stdout"
        }
      ]
    },
    {
      "cell_type": "code",
      "source": [
        "pip install --upgrade google-api-python-client"
      ],
      "metadata": {
        "id": "OEYTPWdIMEAv",
        "colab": {
          "base_uri": "https://localhost:8080/"
        },
        "outputId": "91520282-0826-4a52-96ff-8575d0401f92"
      },
      "execution_count": 51,
      "outputs": [
        {
          "output_type": "stream",
          "name": "stdout"
        }
      ]
    },
    {
      "cell_type": "code",
      "source": [
        "from dask import dataframe as dd "
      ],
      "metadata": {
        "id": "qJV1sh_Ru8G8"
      },
      "execution_count": 52,
      "outputs": []
    },
    {
      "cell_type": "code",
      "source": [
        "from googleapiclient import discovery"
      ],
      "metadata": {
        "id": "2-l-wHEAvbx3"
      },
      "execution_count": 53,
      "outputs": []
    },
    {
      "cell_type": "code",
      "source": [
        "from google.colab import drive\n",
        "drive.mount('/content/drive')"
      ],
      "metadata": {
        "colab": {
          "base_uri": "https://localhost:8080/"
        },
        "id": "0DIbtKARbp1O",
        "outputId": "b5e857ec-7caf-4614-9742-a9b5bd5213a9"
      },
      "execution_count": 54,
      "outputs": [
        {
          "output_type": "stream",
          "name": "stdout"
        }
      ]
    },
    {
      "cell_type": "markdown",
      "source": [
        "Key da API perspective."
      ],
      "metadata": {
        "id": "PV3nyHxIwRBf"
      }
    },
    {
      "cell_type": "code",
      "source": [
        "API_KEY = ''"
      ],
      "metadata": {
        "id": "NDt_s90_vfC6"
      },
      "execution_count": 55,
      "outputs": []
    },
    {
      "cell_type": "markdown",
      "source": [
        "# Função perspective"
      ],
      "metadata": {
        "id": "lTPAJfV2wBhc"
      }
    },
    {
      "cell_type": "markdown",
      "source": [
        "Função que analisa a mensagem e a envia para o client do perspective."
      ],
      "metadata": {
        "id": "E25DYz8LvyZz"
      }
    },
    {
      "cell_type": "code",
      "source": [
        "def analyze_message(message):\n",
        "\n",
        "    client = discovery.build(\n",
        "    \"commentanalyzer\",\n",
        "    \"v1alpha1\",\n",
        "    developerKey=API_KEY,\n",
        "    discoveryServiceUrl=\"https://commentanalyzer.googleapis.com/$discovery/rest?version=v1alpha1\",\n",
        "    static_discovery=False,\n",
        "    \n",
        "    )\n",
        "\n",
        "    analyze_request = {\n",
        "    'comment': { \n",
        "        'text': message\n",
        "    },\n",
        "    'requestedAttributes': {'TOXICITY': {}}\n",
        "    }\n",
        "\n",
        "    response = client.comments().analyze(body=analyze_request).execute()\n",
        "\n",
        "    return response['attributeScores']['TOXICITY']['summaryScore']['value']"
      ],
      "metadata": {
        "id": "twD_21Fgvfd3"
      },
      "execution_count": 56,
      "outputs": []
    },
    {
      "cell_type": "markdown",
      "source": [
        "# Main program"
      ],
      "metadata": {
        "id": "NDdg0rO2wIwO"
      }
    },
    {
      "cell_type": "markdown",
      "source": [
        "Nome do arquivo em que os dados serão salvos"
      ],
      "metadata": {
        "id": "dgYjWLl5wWSH"
      }
    },
    {
      "cell_type": "code",
      "source": [
        "filename = 'output.txt'"
      ],
      "metadata": {
        "id": "9kHMylFdvOyj"
      },
      "execution_count": 57,
      "outputs": []
    },
    {
      "cell_type": "markdown",
      "source": [
        "Desk lê o arquivo csv extraido diretamente do **pgadmin**. São usadas as colunas de mensagem e id."
      ],
      "metadata": {
        "id": "76BRdENyxIiW"
      }
    },
    {
      "cell_type": "code",
      "source": [
        "messages = dd.read_csv(\"/content/drive/MyDrive/data-1679426118948.csv\", on_bad_lines='warn',engine='python', usecols=['id', 'message'])"
      ],
      "metadata": {
        "id": "vWIoIIixvQMa"
      },
      "execution_count": 58,
      "outputs": []
    },
    {
      "cell_type": "markdown",
      "source": [
        "Transforma todas colunas de mensagens em *string* e de id em *int*."
      ],
      "metadata": {
        "id": "H4NLJxgwxmKo"
      }
    },
    {
      "cell_type": "code",
      "source": [
        "messages['message'] = messages['message'].astype(str)\n",
        "messages['id'] = messages['id'].astype(int)"
      ],
      "metadata": {
        "id": "RyAA926EvRig"
      },
      "execution_count": 59,
      "outputs": []
    },
    {
      "cell_type": "markdown",
      "source": [
        "Loop que escreve no arquivo o valor do score junto com o id da mensagem. Foi nessesário um tratamento de exceção devido a limitações do perspective em relação a mensagens com links e emoticons."
      ],
      "metadata": {
        "id": "9_p2PoZlx19z"
      }
    },
    {
      "cell_type": "code",
      "source": [
        "f_obj = open(filename, \"a\")"
      ],
      "metadata": {
        "id": "m9H-OMXeG8KF"
      },
      "execution_count": 60,
      "outputs": []
    },
    {
      "cell_type": "code",
      "source": [
        "import time\n",
        "for id, text in zip(messages.id, messages.message):\n",
        "  time.sleep(1)\n",
        "  try:\n",
        "    score = analyze_message(text)\n",
        "  except Exception as e:\n",
        "    print(e)\n",
        "  else:\n",
        "    f_obj.write(str(id) + \" \" + str(score) + '\\n')"
      ],
      "metadata": {
        "id": "bVgYiKcVvSvm",
        "colab": {
          "base_uri": "https://localhost:8080/"
        },
        "outputId": "374d6174-9328-400a-9069-4d614164878e"
      },
      "execution_count": 61,
      "outputs": [
        {
          "output_type": "stream",
          "name": "stdout"
          ]
        }
      ]
    },
    {
      "cell_type": "code",
      "source": [
        "f_obj.close()"
      ],
      "metadata": {
        "id": "FhMtBvpxHDqu"
      },
      "execution_count": 62,
      "outputs": []
    }
  ]
}
